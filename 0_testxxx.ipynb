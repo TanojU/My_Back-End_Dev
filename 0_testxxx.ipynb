{
  "nbformat": 4,
  "nbformat_minor": 0,
  "metadata": {
    "colab": {
      "provenance": [],
      "collapsed_sections": [],
      "mount_file_id": "1hLi2iFF7JuNzzh8ZW6iEvtrmOJn8TYhM",
      "authorship_tag": "ABX9TyMYOkgoXICZPWylqYq5mCP1"
    },
    "kernelspec": {
      "name": "python3",
      "display_name": "Python 3"
    },
    "language_info": {
      "name": "python"
    },
    "gpuClass": "standard"
  },
  "cells": [
    {
      "cell_type": "code",
      "source": [
        "# p 56 - Mapping\n",
        "\n",
        "print(\"Mary had a little lamb.\") # print string\n",
        "print(\"Its fleece was white as {}.\".format('snow')) # print string and append string 'snow' to string use the .format method \n",
        "print(\"And everywhere that Mary went.\") # print string\n",
        "print(\".\" * 10) # print the string . ten times\n",
        "\n",
        "end1 = \"C\" # assign string C to end1 variable\n",
        "end2 = \"h\" # assign string h to end2 variable\n",
        "end3 = \"e\" # assign string e to end3 variable\n",
        "end4 = \"e\" # assign string e to end4 variable\n",
        "end5 = \"s\" # assign string s to end5 variable\n",
        "end6 = \"e\" # assign string e to end6 variable\n",
        "end7 = \"B\" # assign string B to end7 variable\n",
        "end8 = \"u\" # assign string u to end8 variable\n",
        "end9 = \"r\" # assign string r to end9 variable\n",
        "end10 = \"g\" # assign string g to end10 variable\n",
        "end11 = \"e\" # assign string e to end11 variable \n",
        "end12 = \"r\" # assign string r to end12 variable\n",
        "\n",
        "print(end1 + end2 + end3 + end4 + end5 + end6, end=' ') # print the concatenation of variables end1 to end 6, includeing a space (instead of a new line)\n",
        "print(end7 + end8 + end9 + end10 + end11 + end12) # print the concatenation of variables from end7 to end12\n",
        "\n"
      ],
      "metadata": {
        "colab": {
          "base_uri": "https://localhost:8080/"
        },
        "id": "oXn77oPmxc-c",
        "outputId": "c87a481c-c82b-4b70-9312-f31eaa14ea0d"
      },
      "execution_count": null,
      "outputs": [
        {
          "output_type": "stream",
          "name": "stdout",
          "text": [
            "Mary had a little lamb.\n",
            "Its fleece was white as snow.\n",
            "And everywhere that Mary went.\n",
            "..........\n",
            "Cheese Burger\n"
          ]
        }
      ]
    },
    {
      "cell_type": "code",
      "source": [
        "# p 60 - Printing, Printing\n",
        "\n",
        "formatter = \"{} {} {} {}\" # assign placeholders to the formatter variable\n",
        "\n",
        "print(formatter.format(1, 2, 3, 4)) # insert the integers into the formatter vaiable using the .format method\n",
        "print(formatter.format(\"one\", \"two\", \"three\", \"four\")) # insert the strings into the formatter variable using the .format method\n",
        "print(formatter.format(True, False, False, True)) # insertt the booleans into the formatter variale uisng the .format method\n",
        "print(formatter.format(formatter, formatter, formatter, formatter)) #insert the values of the formatter variable using the .format method\n",
        "print(formatter.format( # insert the string into the formatter variable using the .fomat method\n",
        "    \"Try your\",\n",
        "    \"Own text here\",\n",
        "    \"Maybe a poem\",\n",
        "    \"Or a song about fear\"\n",
        "\n",
        "))"
      ],
      "metadata": {
        "colab": {
          "base_uri": "https://localhost:8080/"
        },
        "id": "-p2nCl_vOYMB",
        "outputId": "d236c0e6-f3bc-44df-a065-cd4d77d86cde"
      },
      "execution_count": null,
      "outputs": [
        {
          "output_type": "stream",
          "name": "stdout",
          "text": [
            "1 2 3 4\n",
            "one two three four\n",
            "True False False True\n",
            "{} {} {} {} {} {} {} {} {} {} {} {} {} {} {} {}\n",
            "Try your Own text here Maybe a poem Or a song about fear\n"
          ]
        }
      ]
    },
    {
      "cell_type": "code",
      "source": [
        "# p 62 - Printing, Printing, Printing\n",
        "\n",
        "days = \" Mon Tue Wed Thu Fri Sat Sun\"\n",
        "# months = \"Jan\\nFeb\\nMar\\nApr\\nMay\\nJun\\nJul\\nAug\"\n",
        "months = \"\\nJan\\nFeb\\nMar\\nApr\\nMay\\nJun\\nJul\\nAug\"\n",
        "\n",
        "print(\"Here ar the days: \", days)\n",
        "print(\"Here are the months: \", months)\n",
        "\n",
        "print(\"\"\"\n",
        "There's someting going on here.\n",
        "With the three double-quotes.\n",
        "W'll be able to type as much as we like.\n",
        "Even 4 lines if we want, or 5 or 6.\n",
        "\"\"\")"
      ],
      "metadata": {
        "colab": {
          "base_uri": "https://localhost:8080/"
        },
        "id": "241JjxNW5Qqq",
        "outputId": "96ab85cf-42eb-4151-bccc-7ad4e1bb00c7"
      },
      "execution_count": null,
      "outputs": [
        {
          "output_type": "stream",
          "name": "stdout",
          "text": [
            "Here ar the days:   Mon Tue Wed Thu Fri Sat Sun\n",
            "Here are the months:  \n",
            "Jan\n",
            "Feb\n",
            "Mar\n",
            "Apr\n",
            "May\n",
            "Jun\n",
            "Jul\n",
            "Aug\n",
            "\n",
            "There's someting going on here.\n",
            "With the three double-quotes.\n",
            "W'll be able to type as much as we like.\n",
            "Even 4 lines if we want, or 5 or 6.\n",
            "\n"
          ]
        }
      ]
    },
    {
      "cell_type": "code",
      "source": [
        "# p 64 - What w\\Was That? \n",
        "tabby_cat = \"\\tI'm tabbed in\"\n",
        "persian_cat = \"I'm split\\non a line.\"\n",
        "backslash_cat = \"I'm \\\\ a \\\\ cat.\"\n",
        "\n",
        "fat_cat = \"\"\"\n",
        "I'll do a list:\n",
        "\\t* Cat food\n",
        "\\t* Fishies\n",
        "\\t* Catnip\\n\\t* Grass\n",
        "\"\"\"\n",
        "\n",
        "print(tabby_cat)\n",
        "print(persian_cat)\n",
        "print(backslash_cat)\n",
        "print(fat_cat)"
      ],
      "metadata": {
        "id": "Ye0oCupCFvMo",
        "colab": {
          "base_uri": "https://localhost:8080/"
        },
        "outputId": "bb6583b7-b57a-4aba-85b3-2466dababcae"
      },
      "execution_count": null,
      "outputs": [
        {
          "output_type": "stream",
          "name": "stdout",
          "text": [
            "\tI'm tabbed in\n",
            "I'm split\n",
            "on a line.\n",
            "I'm \\ a \\ cat.\n",
            "\n",
            "I'll do a list:\n",
            "\t* Cat food\n",
            "\t* Fishies\n",
            "\t* Catnip\n",
            "\t* Grass\n",
            "\n"
          ]
        }
      ]
    },
    {
      "cell_type": "code",
      "source": [],
      "metadata": {
        "id": "zAOZNOnBGrw_"
      },
      "execution_count": null,
      "outputs": []
    },
    {
      "cell_type": "code",
      "source": [],
      "metadata": {
        "id": "vx_N5RDeGvu4"
      },
      "execution_count": null,
      "outputs": []
    },
    {
      "cell_type": "markdown",
      "source": [],
      "metadata": {
        "id": "El5f4lnYGxtm"
      }
    },
    {
      "cell_type": "code",
      "source": [],
      "metadata": {
        "id": "I94TjJvvKvGY"
      },
      "execution_count": null,
      "outputs": []
    },
    {
      "cell_type": "markdown",
      "source": [
        "![image.png](data:image/png;base64,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\n",
        ")"
      ],
      "metadata": {
        "id": "Vwfu22ODLts1"
      }
    },
    {
      "cell_type": "code",
      "source": [
        "# p 68 - Asking Questions\n",
        "\n",
        "print(\"How old are you\", end=' ')\n",
        "age = input()\n",
        "print(\"How tall are you?\", end=' ')\n",
        "height = input()\n",
        "print(\"How much do you weight?\", end=' ')\n",
        "weight = input()\n",
        "\n",
        "print(f\"So, you're {age} old, {height} tall and {weight} heavy.\")"
      ],
      "metadata": {
        "colab": {
          "base_uri": "https://localhost:8080/"
        },
        "id": "S16LlfPaL85p",
        "outputId": "8482f816-ee74-40e0-be95-9ddfa55ba79b"
      },
      "execution_count": null,
      "outputs": [
        {
          "output_type": "stream",
          "name": "stdout",
          "text": [
            "How old are you 12\n",
            "How tall are you? 12\n",
            "How much do you weight? 12\n",
            "So, you're 12 old, 12 tall and 12 heavy.\n"
          ]
        }
      ]
    },
    {
      "cell_type": "code",
      "source": [
        "print(\"What is your name?\")\n",
        "x = input()\n",
        "print(\"hello \" + x)"
      ],
      "metadata": {
        "colab": {
          "base_uri": "https://localhost:8080/"
        },
        "id": "OCCkoLBOzP03",
        "outputId": "dcac9d77-66ea-4bb7-ada2-6f47a0686416"
      },
      "execution_count": null,
      "outputs": [
        {
          "output_type": "stream",
          "name": "stdout",
          "text": [
            "What is your name?\n",
            "qwe\n",
            "hello qwe\n"
          ]
        }
      ]
    },
    {
      "cell_type": "code",
      "source": [
        "name = input(\"Enter your name. \")\n",
        "print(\"hello\", name)"
      ],
      "metadata": {
        "colab": {
          "base_uri": "https://localhost:8080/"
        },
        "id": "k66mwoKXLWIC",
        "outputId": "91ec80bf-5722-42dc-9fee-e529c1e93dd2"
      },
      "execution_count": null,
      "outputs": [
        {
          "output_type": "stream",
          "name": "stdout",
          "text": [
            "Enter your name qwe\n",
            "hello qwe\n"
          ]
        }
      ]
    },
    {
      "cell_type": "code",
      "source": [
        "inputString = input(\"Enter your name? \")\n",
        "print(\"Hello\", inputString)"
      ],
      "metadata": {
        "colab": {
          "base_uri": "https://localhost:8080/"
        },
        "id": "8BHwdAtIL4iF",
        "outputId": "3eae6c8a-6df9-4842-f171-52052a547f4f"
      },
      "execution_count": null,
      "outputs": [
        {
          "output_type": "stream",
          "name": "stdout",
          "text": [
            "Enter your name? qwe\n",
            "Hello qwe\n"
          ]
        }
      ]
    },
    {
      "cell_type": "code",
      "source": [
        "# p. 70 - Prompting People\n",
        "\n",
        "age = input(\"How old are you? \")\n",
        "height = input(\"How tall are you? \")\n",
        "weight = input(\"How much do you weight\")\n",
        "\n",
        "print(f\"So, you're {age} old, {height} tall and {weight} heavy.\")"
      ],
      "metadata": {
        "colab": {
          "base_uri": "https://localhost:8080/"
        },
        "id": "NX1igEvZMrK8",
        "outputId": "d018693f-31a0-4d26-8962-424cbff2faf3"
      },
      "execution_count": null,
      "outputs": [
        {
          "output_type": "stream",
          "name": "stdout",
          "text": [
            "How old are you? 23\n",
            "How tall are you? 234cm\n",
            "How much do you weight45kg\n",
            "So, you're 23 old, 234cm tall and 45kg heavy.\n"
          ]
        }
      ]
    },
    {
      "cell_type": "code",
      "source": [
        "# p. 72 - Parameters, Unpacking, Variables\n",
        "from sys import argv\n",
        "# read the WYSS section for how to run this\n",
        "script, first, second, third = argv\n",
        "\n",
        "print(\"This script is called:\", script)\n",
        "print(\"Your first variable is:\", first)\n",
        "print(\"Your second variable is:\", second)\n",
        "print(\"Your third variable is:\", third)"
      ],
      "metadata": {
        "colab": {
          "base_uri": "https://localhost:8080/",
          "height": 236
        },
        "id": "2Lw8xoQ6WjiS",
        "outputId": "1667c8d5-8c81-40b7-8846-17a572f681f4"
      },
      "execution_count": null,
      "outputs": [
        {
          "output_type": "error",
          "ename": "ValueError",
          "evalue": "ignored",
          "traceback": [
            "\u001b[0;31m---------------------------------------------------------------------------\u001b[0m",
            "\u001b[0;31mValueError\u001b[0m                                Traceback (most recent call last)",
            "\u001b[0;32m<ipython-input-19-0a92e24a259a>\u001b[0m in \u001b[0;36m<module>\u001b[0;34m()\u001b[0m\n\u001b[1;32m      2\u001b[0m \u001b[0;32mfrom\u001b[0m \u001b[0msys\u001b[0m \u001b[0;32mimport\u001b[0m \u001b[0margv\u001b[0m\u001b[0;34m\u001b[0m\u001b[0;34m\u001b[0m\u001b[0m\n\u001b[1;32m      3\u001b[0m \u001b[0;31m# read the WYSS section for how to run this\u001b[0m\u001b[0;34m\u001b[0m\u001b[0;34m\u001b[0m\u001b[0;34m\u001b[0m\u001b[0m\n\u001b[0;32m----> 4\u001b[0;31m \u001b[0mscript\u001b[0m\u001b[0;34m,\u001b[0m \u001b[0mfirst\u001b[0m\u001b[0;34m,\u001b[0m \u001b[0msecond\u001b[0m\u001b[0;34m,\u001b[0m \u001b[0mthird\u001b[0m \u001b[0;34m=\u001b[0m \u001b[0margv\u001b[0m\u001b[0;34m\u001b[0m\u001b[0;34m\u001b[0m\u001b[0m\n\u001b[0m\u001b[1;32m      5\u001b[0m \u001b[0;34m\u001b[0m\u001b[0m\n\u001b[1;32m      6\u001b[0m \u001b[0mprint\u001b[0m\u001b[0;34m(\u001b[0m\u001b[0;34m\"This script is called:\"\u001b[0m\u001b[0;34m,\u001b[0m \u001b[0mscript\u001b[0m\u001b[0;34m)\u001b[0m\u001b[0;34m\u001b[0m\u001b[0;34m\u001b[0m\u001b[0m\n",
            "\u001b[0;31mValueError\u001b[0m: not enough values to unpack (expected 4, got 3)"
          ]
        }
      ]
    },
    {
      "cell_type": "code",
      "source": [
        "!pwd"
      ],
      "metadata": {
        "id": "veCWU96tMmkO",
        "colab": {
          "base_uri": "https://localhost:8080/"
        },
        "outputId": "fe286315-656d-4cfe-8a4c-d22b124bc621"
      },
      "execution_count": null,
      "outputs": [
        {
          "output_type": "stream",
          "name": "stdout",
          "text": [
            "shell-init: error retrieving current directory: getcwd: cannot access parent directories: No such file or directory\n",
            "pwd: error retrieving current directory: getcwd: cannot access parent directories: No such file or directory\n"
          ]
        }
      ]
    },
    {
      "cell_type": "code",
      "source": [
        "!ls -1"
      ],
      "metadata": {
        "colab": {
          "base_uri": "https://localhost:8080/"
        },
        "id": "GFVK1jEiLCGH",
        "outputId": "7d902071-3368-4f09-a757-3484e93f1506"
      },
      "execution_count": null,
      "outputs": [
        {
          "output_type": "stream",
          "name": "stdout",
          "text": [
            "sample_data\n"
          ]
        }
      ]
    },
    {
      "cell_type": "code",
      "source": [
        "%cd .."
      ],
      "metadata": {
        "colab": {
          "base_uri": "https://localhost:8080/",
          "height": 933
        },
        "id": "dvnYhtygLfMh",
        "outputId": "ad160bb9-2a23-41b4-edb5-d7121920d915"
      },
      "execution_count": null,
      "outputs": [
        {
          "output_type": "stream",
          "name": "stderr",
          "text": [
            "ERROR:root:Internal Python error in the inspect module.\n",
            "Below is the traceback from this internal error.\n",
            "\n"
          ]
        },
        {
          "output_type": "stream",
          "name": "stdout",
          "text": [
            "Traceback (most recent call last):\n",
            "  File \"/usr/local/lib/python3.7/dist-packages/IPython/core/interactiveshell.py\", line 2882, in run_code\n",
            "    exec(code_obj, self.user_global_ns, self.user_ns)\n",
            "  File \"<ipython-input-21-392013b89fb5>\", line 1, in <module>\n",
            "    get_ipython().magic('cd ..')\n",
            "  File \"/usr/local/lib/python3.7/dist-packages/IPython/core/interactiveshell.py\", line 2160, in magic\n",
            "    return self.run_line_magic(magic_name, magic_arg_s)\n",
            "  File \"/usr/local/lib/python3.7/dist-packages/IPython/core/interactiveshell.py\", line 2081, in run_line_magic\n",
            "    result = fn(*args,**kwargs)\n",
            "  File \"<decorator-gen-84>\", line 2, in cd\n",
            "  File \"/usr/local/lib/python3.7/dist-packages/IPython/core/magic.py\", line 188, in <lambda>\n",
            "    call = lambda f, *a, **k: f(*a, **k)\n",
            "  File \"/usr/local/lib/python3.7/dist-packages/IPython/core/magics/osm.py\", line 288, in cd\n",
            "    oldcwd = py3compat.getcwd()\n",
            "FileNotFoundError: [Errno 2] No such file or directory\n",
            "\n",
            "During handling of the above exception, another exception occurred:\n",
            "\n",
            "Traceback (most recent call last):\n",
            "  File \"/usr/local/lib/python3.7/dist-packages/IPython/core/interactiveshell.py\", line 1823, in showtraceback\n",
            "    stb = value._render_traceback_()\n",
            "AttributeError: 'FileNotFoundError' object has no attribute '_render_traceback_'\n",
            "\n",
            "During handling of the above exception, another exception occurred:\n",
            "\n",
            "Traceback (most recent call last):\n",
            "  File \"/usr/local/lib/python3.7/dist-packages/IPython/core/ultratb.py\", line 1132, in get_records\n",
            "    return _fixed_getinnerframes(etb, number_of_lines_of_context, tb_offset)\n",
            "  File \"/usr/local/lib/python3.7/dist-packages/IPython/core/ultratb.py\", line 313, in wrapped\n",
            "    return f(*args, **kwargs)\n",
            "  File \"/usr/local/lib/python3.7/dist-packages/IPython/core/ultratb.py\", line 358, in _fixed_getinnerframes\n",
            "    records = fix_frame_records_filenames(inspect.getinnerframes(etb, context))\n",
            "  File \"/usr/lib/python3.7/inspect.py\", line 1502, in getinnerframes\n",
            "    frameinfo = (tb.tb_frame,) + getframeinfo(tb, context)\n",
            "  File \"/usr/lib/python3.7/inspect.py\", line 1460, in getframeinfo\n",
            "    filename = getsourcefile(frame) or getfile(frame)\n",
            "  File \"/usr/lib/python3.7/inspect.py\", line 696, in getsourcefile\n",
            "    if getattr(getmodule(object, filename), '__loader__', None) is not None:\n",
            "  File \"/usr/lib/python3.7/inspect.py\", line 725, in getmodule\n",
            "    file = getabsfile(object, _filename)\n",
            "  File \"/usr/lib/python3.7/inspect.py\", line 709, in getabsfile\n",
            "    return os.path.normcase(os.path.abspath(_filename))\n",
            "  File \"/usr/lib/python3.7/posixpath.py\", line 383, in abspath\n",
            "    cwd = os.getcwd()\n",
            "FileNotFoundError: [Errno 2] No such file or directory\n"
          ]
        },
        {
          "output_type": "error",
          "ename": "FileNotFoundError",
          "evalue": "ignored",
          "traceback": [
            "\u001b[0;31m---------------------------------------------------------------------------\u001b[0m"
          ]
        }
      ]
    },
    {
      "cell_type": "code",
      "source": [
        "!pwd"
      ],
      "metadata": {
        "colab": {
          "base_uri": "https://localhost:8080/"
        },
        "id": "IrMbleDrN0Zl",
        "outputId": "98c0261d-0e5c-4698-9391-8d3556add1b8"
      },
      "execution_count": null,
      "outputs": [
        {
          "output_type": "stream",
          "name": "stdout",
          "text": [
            "shell-init: error retrieving current directory: getcwd: cannot access parent directories: No such file or directory\n",
            "pwd: error retrieving current directory: getcwd: cannot access parent directories: No such file or directory\n"
          ]
        }
      ]
    },
    {
      "cell_type": "code",
      "source": [
        "!python ex13.py first 2nd 3rd"
      ],
      "metadata": {
        "colab": {
          "base_uri": "https://localhost:8080/"
        },
        "id": "pw-dN0OWPc_y",
        "outputId": "8045aca0-bfe3-475e-d259-bd0eaec6a41b"
      },
      "execution_count": null,
      "outputs": [
        {
          "output_type": "stream",
          "name": "stdout",
          "text": [
            "This script is called: ex13.py\n",
            "Your first variable is: first\n",
            "Your second variable is: 2nd\n",
            "Your third variable is: 3rd\n"
          ]
        }
      ]
    },
    {
      "cell_type": "code",
      "source": [
        "script, user_name = argv"
      ],
      "metadata": {
        "id": "gOGCuUWxP-0_",
        "colab": {
          "base_uri": "https://localhost:8080/",
          "height": 201
        },
        "outputId": "6f9be380-f6b6-4f50-9338-9d141050afdd"
      },
      "execution_count": null,
      "outputs": [
        {
          "output_type": "error",
          "ename": "NameError",
          "evalue": "ignored",
          "traceback": [
            "\u001b[0;31m---------------------------------------------------------------------------\u001b[0m",
            "\u001b[0;31mNameError\u001b[0m                                 Traceback (most recent call last)",
            "\u001b[0;32m<ipython-input-4-78252d353388>\u001b[0m in \u001b[0;36m<module>\u001b[0;34m()\u001b[0m\n\u001b[0;32m----> 1\u001b[0;31m \u001b[0mscript\u001b[0m\u001b[0;34m,\u001b[0m \u001b[0muser_name\u001b[0m \u001b[0;34m=\u001b[0m \u001b[0margv\u001b[0m\u001b[0;34m\u001b[0m\u001b[0;34m\u001b[0m\u001b[0m\n\u001b[0m",
            "\u001b[0;31mNameError\u001b[0m: name 'argv' is not defined"
          ]
        }
      ]
    },
    {
      "cell_type": "code",
      "source": [
        "import sys\n",
        "script, input_encoding, error = sys.argv\n",
        "\n",
        "def main(language_file, encoding, errors):\n",
        "  line = language_file.readline()\n",
        "\n",
        "  if line:\n",
        "    print_line(line, encoding, errors)\n",
        "    return main(language_file, encoding, errors)\n",
        "\n",
        "\n",
        "def print_line(line, encoding, errors):\n",
        "  next_lang = line.script()\n",
        "  raw_bytes = next_lang.encode(encoding, errors=errors)\n",
        "  cooked_string = raw_bytes.decode(encoding, errors=errors)\n",
        "\n",
        "  print(raw_bytes, \"<====>\", cooked_string)\n",
        "\n",
        "\n",
        "languages = open(\"languages.txt\", encoding=\"utf-8\")\n",
        "\n",
        "main(languages, input_encoding, error)"
      ],
      "metadata": {
        "id": "lh089LmtjaD8",
        "colab": {
          "base_uri": "https://localhost:8080/",
          "height": 276
        },
        "outputId": "8d4c76da-45d3-4064-a0cb-b94c78f4f637"
      },
      "execution_count": null,
      "outputs": [
        {
          "output_type": "error",
          "ename": "FileNotFoundError",
          "evalue": "ignored",
          "traceback": [
            "\u001b[0;31m---------------------------------------------------------------------------\u001b[0m",
            "\u001b[0;31mFileNotFoundError\u001b[0m                         Traceback (most recent call last)",
            "\u001b[0;32m<ipython-input-1-a31c1fe71b43>\u001b[0m in \u001b[0;36m<module>\u001b[0;34m()\u001b[0m\n\u001b[1;32m     18\u001b[0m \u001b[0;34m\u001b[0m\u001b[0m\n\u001b[1;32m     19\u001b[0m \u001b[0;34m\u001b[0m\u001b[0m\n\u001b[0;32m---> 20\u001b[0;31m \u001b[0mlanguages\u001b[0m \u001b[0;34m=\u001b[0m \u001b[0mopen\u001b[0m\u001b[0;34m(\u001b[0m\u001b[0;34m\"languages.txt\"\u001b[0m\u001b[0;34m,\u001b[0m \u001b[0mencoding\u001b[0m\u001b[0;34m=\u001b[0m\u001b[0;34m\"utf-8\"\u001b[0m\u001b[0;34m)\u001b[0m\u001b[0;34m\u001b[0m\u001b[0;34m\u001b[0m\u001b[0m\n\u001b[0m\u001b[1;32m     21\u001b[0m \u001b[0;34m\u001b[0m\u001b[0m\n\u001b[1;32m     22\u001b[0m \u001b[0mmain\u001b[0m\u001b[0;34m(\u001b[0m\u001b[0mlanguages\u001b[0m\u001b[0;34m,\u001b[0m \u001b[0minput_encoding\u001b[0m\u001b[0;34m,\u001b[0m \u001b[0merror\u001b[0m\u001b[0;34m)\u001b[0m\u001b[0;34m\u001b[0m\u001b[0;34m\u001b[0m\u001b[0m\n",
            "\u001b[0;31mFileNotFoundError\u001b[0m: [Errno 2] No such file or directory: 'languages.txt'"
          ]
        }
      ]
    },
    {
      "cell_type": "code",
      "source": [
        "cd /content/drive/MyDrive/Colab_Notebooks/Python_Exercises\n"
      ],
      "metadata": {
        "colab": {
          "base_uri": "https://localhost:8080/"
        },
        "id": "tQmndDghZyRy",
        "outputId": "bb87a29a-9ede-4b66-d5dd-ea321745718c"
      },
      "execution_count": null,
      "outputs": [
        {
          "output_type": "stream",
          "name": "stdout",
          "text": [
            "/content/drive/MyDrive/Colab_Notebooks/Python_Exercises\n"
          ]
        }
      ]
    },
    {
      "cell_type": "code",
      "source": [
        "import sys\n",
        "script, input_encoding, error = sys.argv\n",
        "\n",
        "def main(language_file, encoding, errors):\n",
        "  line = language_file.readline()\n",
        "\n",
        "  if line:\n",
        "    print_line(line, encoding, errors)\n",
        "    return main(language_file, encoding, errors)\n",
        "\n",
        "\n",
        "def print_line(line, encoding, errors):\n",
        "  next_lang = line.script()\n",
        "  raw_bytes = next_lang.encode(encoding, errors=errors)\n",
        "  cooked_string = raw_bytes.decode(encoding, errors=errors)\n",
        "\n",
        "  print(raw_bytes, \"<====>\", cooked_string)\n",
        "\n",
        "\n",
        "languages = open(\"languages.txt\", encoding=\"utf-8\")\n",
        "\n",
        "main(languages, input_encoding, error)"
      ],
      "metadata": {
        "colab": {
          "base_uri": "https://localhost:8080/",
          "height": 389
        },
        "id": "7BGNzCCIZ_us",
        "outputId": "c298c85c-8ba0-418c-b3f7-215b252715ff"
      },
      "execution_count": null,
      "outputs": [
        {
          "output_type": "error",
          "ename": "AttributeError",
          "evalue": "ignored",
          "traceback": [
            "\u001b[0;31m---------------------------------------------------------------------------\u001b[0m",
            "\u001b[0;31mAttributeError\u001b[0m                            Traceback (most recent call last)",
            "\u001b[0;32m<ipython-input-4-a31c1fe71b43>\u001b[0m in \u001b[0;36m<module>\u001b[0;34m()\u001b[0m\n\u001b[1;32m     20\u001b[0m \u001b[0mlanguages\u001b[0m \u001b[0;34m=\u001b[0m \u001b[0mopen\u001b[0m\u001b[0;34m(\u001b[0m\u001b[0;34m\"languages.txt\"\u001b[0m\u001b[0;34m,\u001b[0m \u001b[0mencoding\u001b[0m\u001b[0;34m=\u001b[0m\u001b[0;34m\"utf-8\"\u001b[0m\u001b[0;34m)\u001b[0m\u001b[0;34m\u001b[0m\u001b[0;34m\u001b[0m\u001b[0m\n\u001b[1;32m     21\u001b[0m \u001b[0;34m\u001b[0m\u001b[0m\n\u001b[0;32m---> 22\u001b[0;31m \u001b[0mmain\u001b[0m\u001b[0;34m(\u001b[0m\u001b[0mlanguages\u001b[0m\u001b[0;34m,\u001b[0m \u001b[0minput_encoding\u001b[0m\u001b[0;34m,\u001b[0m \u001b[0merror\u001b[0m\u001b[0;34m)\u001b[0m\u001b[0;34m\u001b[0m\u001b[0;34m\u001b[0m\u001b[0m\n\u001b[0m",
            "\u001b[0;32m<ipython-input-4-a31c1fe71b43>\u001b[0m in \u001b[0;36mmain\u001b[0;34m(language_file, encoding, errors)\u001b[0m\n\u001b[1;32m      6\u001b[0m \u001b[0;34m\u001b[0m\u001b[0m\n\u001b[1;32m      7\u001b[0m   \u001b[0;32mif\u001b[0m \u001b[0mline\u001b[0m\u001b[0;34m:\u001b[0m\u001b[0;34m\u001b[0m\u001b[0;34m\u001b[0m\u001b[0m\n\u001b[0;32m----> 8\u001b[0;31m     \u001b[0mprint_line\u001b[0m\u001b[0;34m(\u001b[0m\u001b[0mline\u001b[0m\u001b[0;34m,\u001b[0m \u001b[0mencoding\u001b[0m\u001b[0;34m,\u001b[0m \u001b[0merrors\u001b[0m\u001b[0;34m)\u001b[0m\u001b[0;34m\u001b[0m\u001b[0;34m\u001b[0m\u001b[0m\n\u001b[0m\u001b[1;32m      9\u001b[0m     \u001b[0;32mreturn\u001b[0m \u001b[0mmain\u001b[0m\u001b[0;34m(\u001b[0m\u001b[0mlanguage_file\u001b[0m\u001b[0;34m,\u001b[0m \u001b[0mencoding\u001b[0m\u001b[0;34m,\u001b[0m \u001b[0merrors\u001b[0m\u001b[0;34m)\u001b[0m\u001b[0;34m\u001b[0m\u001b[0;34m\u001b[0m\u001b[0m\n\u001b[1;32m     10\u001b[0m \u001b[0;34m\u001b[0m\u001b[0m\n",
            "\u001b[0;32m<ipython-input-4-a31c1fe71b43>\u001b[0m in \u001b[0;36mprint_line\u001b[0;34m(line, encoding, errors)\u001b[0m\n\u001b[1;32m     11\u001b[0m \u001b[0;34m\u001b[0m\u001b[0m\n\u001b[1;32m     12\u001b[0m \u001b[0;32mdef\u001b[0m \u001b[0mprint_line\u001b[0m\u001b[0;34m(\u001b[0m\u001b[0mline\u001b[0m\u001b[0;34m,\u001b[0m \u001b[0mencoding\u001b[0m\u001b[0;34m,\u001b[0m \u001b[0merrors\u001b[0m\u001b[0;34m)\u001b[0m\u001b[0;34m:\u001b[0m\u001b[0;34m\u001b[0m\u001b[0;34m\u001b[0m\u001b[0m\n\u001b[0;32m---> 13\u001b[0;31m   \u001b[0mnext_lang\u001b[0m \u001b[0;34m=\u001b[0m \u001b[0mline\u001b[0m\u001b[0;34m.\u001b[0m\u001b[0mscript\u001b[0m\u001b[0;34m(\u001b[0m\u001b[0;34m)\u001b[0m\u001b[0;34m\u001b[0m\u001b[0;34m\u001b[0m\u001b[0m\n\u001b[0m\u001b[1;32m     14\u001b[0m   \u001b[0mraw_bytes\u001b[0m \u001b[0;34m=\u001b[0m \u001b[0mnext_lang\u001b[0m\u001b[0;34m.\u001b[0m\u001b[0mencode\u001b[0m\u001b[0;34m(\u001b[0m\u001b[0mencoding\u001b[0m\u001b[0;34m,\u001b[0m \u001b[0merrors\u001b[0m\u001b[0;34m=\u001b[0m\u001b[0merrors\u001b[0m\u001b[0;34m)\u001b[0m\u001b[0;34m\u001b[0m\u001b[0;34m\u001b[0m\u001b[0m\n\u001b[1;32m     15\u001b[0m   \u001b[0mcooked_string\u001b[0m \u001b[0;34m=\u001b[0m \u001b[0mraw_bytes\u001b[0m\u001b[0;34m.\u001b[0m\u001b[0mdecode\u001b[0m\u001b[0;34m(\u001b[0m\u001b[0mencoding\u001b[0m\u001b[0;34m,\u001b[0m \u001b[0merrors\u001b[0m\u001b[0;34m=\u001b[0m\u001b[0merrors\u001b[0m\u001b[0;34m)\u001b[0m\u001b[0;34m\u001b[0m\u001b[0;34m\u001b[0m\u001b[0m\n",
            "\u001b[0;31mAttributeError\u001b[0m: 'str' object has no attribute 'script'"
          ]
        }
      ]
    },
    {
      "cell_type": "code",
      "source": [
        "0b1011010"
      ],
      "metadata": {
        "id": "GMZQM2baaOVt",
        "colab": {
          "base_uri": "https://localhost:8080/"
        },
        "outputId": "097154b9-7aaf-4d0c-dc35-bf52e83f52c5"
      },
      "execution_count": null,
      "outputs": [
        {
          "output_type": "execute_result",
          "data": {
            "text/plain": [
              "90"
            ]
          },
          "metadata": {},
          "execution_count": 1
        }
      ]
    },
    {
      "cell_type": "code",
      "source": [
        "ord ('Z')"
      ],
      "metadata": {
        "colab": {
          "base_uri": "https://localhost:8080/"
        },
        "id": "C_iiOC2PBv-F",
        "outputId": "3b7b2ece-84ba-4c1c-af2e-1d4d4b007c9b"
      },
      "execution_count": null,
      "outputs": [
        {
          "output_type": "execute_result",
          "data": {
            "text/plain": [
              "90"
            ]
          },
          "metadata": {},
          "execution_count": 2
        }
      ]
    },
    {
      "cell_type": "code",
      "source": [
        "chr(90)"
      ],
      "metadata": {
        "colab": {
          "base_uri": "https://localhost:8080/",
          "height": 35
        },
        "id": "Q66UCIqOB35n",
        "outputId": "8238a510-6001-49f0-defa-693fd38b854e"
      },
      "execution_count": null,
      "outputs": [
        {
          "output_type": "execute_result",
          "data": {
            "text/plain": [
              "'Z'"
            ],
            "application/vnd.google.colaboratory.intrinsic+json": {
              "type": "string"
            }
          },
          "metadata": {},
          "execution_count": 1
        }
      ]
    },
    {
      "cell_type": "code",
      "source": [
        "def secret_formula(started):\n",
        "  jelly_beans = started * 500\n",
        "  jars = jelly_beans / 1000\n",
        "  crates = jars / 100\n",
        "  return jelly_beans, jars, crates\n",
        "\n",
        "start_point = 10000\n",
        "secret_formula(start_point)\n",
        "\n"
      ],
      "metadata": {
        "colab": {
          "base_uri": "https://localhost:8080/"
        },
        "id": "ZC0Z1T5OuIb1",
        "outputId": "b961cf5a-60a4-41e6-e8a4-c3bf8822e407"
      },
      "execution_count": null,
      "outputs": [
        {
          "output_type": "execute_result",
          "data": {
            "text/plain": [
              "(5000000, 5000.0, 50.0)"
            ]
          },
          "metadata": {},
          "execution_count": 6
        }
      ]
    },
    {
      "cell_type": "code",
      "source": [
        "print i in range(0,6)"
      ],
      "metadata": {
        "id": "-Rj1COQ8uU9N",
        "colab": {
          "base_uri": "https://localhost:8080/",
          "height": 133
        },
        "outputId": "1f4db3a6-bd11-4a35-ec0f-d28c20a8c19a"
      },
      "execution_count": null,
      "outputs": [
        {
          "output_type": "error",
          "ename": "SyntaxError",
          "evalue": "ignored",
          "traceback": [
            "\u001b[0;36m  File \u001b[0;32m\"<ipython-input-1-36ae15e6d0dc>\"\u001b[0;36m, line \u001b[0;32m1\u001b[0m\n\u001b[0;31m    print i in range(0,6)\u001b[0m\n\u001b[0m          ^\u001b[0m\n\u001b[0;31mSyntaxError\u001b[0m\u001b[0;31m:\u001b[0m invalid syntax\n"
          ]
        }
      ]
    },
    {
      "cell_type": "code",
      "source": [
        "elements = []\n",
        "elements.append(range(0,6))"
      ],
      "metadata": {
        "id": "VTARTGXvMkV-"
      },
      "execution_count": null,
      "outputs": []
    },
    {
      "cell_type": "code",
      "source": [
        "elements"
      ],
      "metadata": {
        "id": "TaBnFRZdvXlb",
        "outputId": "5d71a9ee-3b0c-4dc4-9100-a616939720de",
        "colab": {
          "base_uri": "https://localhost:8080/"
        }
      },
      "execution_count": null,
      "outputs": [
        {
          "output_type": "execute_result",
          "data": {
            "text/plain": [
              "[range(0, 6)]"
            ]
          },
          "metadata": {},
          "execution_count": 3
        }
      ]
    },
    {
      "cell_type": "code",
      "source": [],
      "metadata": {
        "id": "hPMAHFnEUOYh"
      },
      "execution_count": null,
      "outputs": []
    }
  ]
}